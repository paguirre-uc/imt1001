{
 "cells": [
  {
   "cell_type": "markdown",
   "metadata": {},
   "source": [
    "# <img style=\"float: left; padding: 0px 10px 0px 0px;\" src=\"https://upload.wikimedia.org/wikipedia/commons/thumb/8/84/Escudo_de_la_Pontificia_Universidad_Cat%C3%B3lica_de_Chile.svg/1920px-Escudo_de_la_Pontificia_Universidad_Cat%C3%B3lica_de_Chile.svg.png\"  width=\"80\" /> IMT1001 - Introducción a Ingeniería Matemática \n",
    "**Pontificia Universidad Católica de Chile**<br>\n",
    "**Instituto de Ingeniería Matemática y Computacional**<br>"
   ]
  },
  {
   "cell_type": "markdown",
   "metadata": {},
   "source": [
    "<h1><center>Taller 4: Extracción y Transformación de Datos\n",
    " </center></h1>\n",
    "<h2><center>Tarea: ¿Qué dicen los medios de prensa internacionales de Chile? </center></h2>\n",
    "\n",
    "\n",
    "\n",
    "<div class=\"alert alert-block alert-info\">\n",
    "\n",
    "## Instrucciones generales.\n",
    "\n",
    "&#128236; **Entrega:** a través de Canvas. <br>\n",
    "\n",
    "&#128013; La Tarea debe ser desarrollada en lenguaje de programación Python. <br>\n",
    "\n",
    "&#11088; En el Notebook, incluya texto explicando los pasos u operaciones desarrolladas, no sólo el código. El objetivo es que el Notebook siga un hilo narrativo, sea claro y atractivo de leer. En [este link](https://github.com/brad-do/nb-miscellany/blob/master/things_to_do_in_markdown.ipynb) puede encontrar algunos tips útiles para usar celdas de anotaciones o Markdown. <br>\n",
    "\n",
    "\n",
    "&#128519; El trabajo es **invididual**, y debe seguir todos los lineamientos de integridad académica del curso. Recuerde referenciar apropiadamente todas las referencias, códigos y datos consultados para el desarrollo de su tarea.<br>\n",
    "\n",
    "&#10067;  Para consultas sobre la tarea, escribir a: paaguirr@ing.puc.cl\n",
    "\n",
    "</div>"
   ]
  },
  {
   "cell_type": "markdown",
   "metadata": {},
   "source": [
    "\n",
    "En esta Tarea, ud. aplicará técnicas de webscraping, procesamiento de textos y análisis de sentimiento para lograr una visión panorámica de qué y cómo se habla de Chile en medios de prensa internacionales. En particular, estudiaremos el caso del medio *Reuters*: www.reuters.com\n",
    "\n",
    "Reuters es la división de noticias y medios de Thomson Reuters. Es uno importante proveedor global en servicios de información y noticias de alto impacto, que distribuye en tiempo real a medios del mundo y sus sitios online. Cuenta con más de 2.600 periodistas, cubriendo noticias en 20 idiomas en 200 oficinas en todo el mundo, y es una reconocida fuente de noticias de información general, política, negocios, deportes, entretenimiento y estilo de vida, ofrecidas en formato escrito o multimedia, en imágenes o gráficos.\n",
    "\n",
    "Las preguntas que buscaremos responder en esta tarea, son por ejemplo: ¿cuáles son los temas más mencionados en la prensa internacional cuando se habla de Chile? ¿En general, los artículos escritos sobre Chile, tienen una connotación más bien positiva o negativa? ¿Ha cambiado el tono de los artículos sobre Chile en los últimos años?\n",
    "\n",
    "\n",
    "Para responder a estas preguntas, complete los siguientes ejercicios:\n",
    "\n",
    "### 1. Primero, estudie el sitio de noticias de Reuters relativas a Chile: https://www.reuters.com/news/archive/chile\n",
    "\n",
    "### 2. Mediante webscraping, extraiga y compile todos los artículos publicados por Reuters sobre Chile, por lo menos desde enero del año 2022 (puede considerar artículos más antiguos si lo desea). \n",
    "\n",
    "Genere un dataframe con un artículo por fila, y con las siguientes columnas:\n",
    "\n",
    "* Título del artículo\n",
    "* URL a la página del artículo\n",
    "* Texto completo del artículo\n",
    "* Fecha del artículo\n",
    "\n",
    "### 3. Para cada artículo, aplique todas las operaciones de limpieza y procesamiento necesarias para dejar el título, texto y datos fechas lo más limpios y depurados posible.\n",
    "\n",
    "Aplique por ejemplo las siguientes correcciones y transformaciones:\n",
    "* **Limpieza de textos:** eliminar de cada texto la información relativa a nombres de autor y editor, y lugar de la noticia. Eliminar números, caracteres especiales `($,#,@,%,-,^,.*,/, etc.)`  o espúreos, signos de puntuación `(:;\"¿?¡!+¨´)` espacios en blanco en exceso o saltos de línea. \n",
    "* **Conversión de fechas a formato `datetime`**\n",
    "* **Remoción de stopwords**\n",
    "* **Lemmatización**\n",
    "\n",
    "Puede ser conveniente mantener la colummna del dataframe con los textos originales, y crear una nueva con los textos depurados.\n",
    "\n",
    "### 4. Analicemos primero los títulos de los artículos:  ¿cuáles son los temas más frecuentes?\n",
    "\n",
    "Genere un análisis de frecuencia de palabras para el conjunto de títulos de los artículos de prensa, y construya  una  *Nube de Palabras* (para esto, puede usar la librería `wordcloud`)\n",
    "\n",
    "Comente, ¿qué puede concluir a partir de estos gráficos? ¿Cuáles son en general los temas que más han llamando la atención en el medio extranjero? ¿Es lo que ud. esperaría como temas más frecuentes, o no?\n",
    "\n",
    "### 5. Analice la polaridad del texto y del título de cada artículo ¿son más bien positivos, negativos o neutros?\n",
    "\n",
    "**a)** Utilice VADER, TextBlob u otro clasificador de sentimiento basadon el lexicon disponible en `nltk` para calcular los scores de positividad, neutralidad y negatividad de cada artículo, y agréguelos como columnas a su dataframe.<br>\n",
    "**b)** Seleccione una muestra de 20 *títulos* al azar, y evalúe los resultados del análisis de polaridad. ¿son concordantes con su propia clasificiación de positivo/negativo/neutro? Justifique claramente su respuesta.<br>\n",
    "**c)** Si considera que la concordancia no es buena, evalúe mejorar su pre-procesamiento de textos, o extender el lexicon de VADER con palabras que ud. considere deberían evaluarse en forma positiva o negativa.<br>\n",
    "**d)** Compare los scores de polaridad obtenidos para los textos y títulos de cada artículo ¿son general coincidentes, o se aprecian diferencias significativas para el conjunto de artículos? <br>\n",
    "\n",
    "### 6. ¿Han habido cambios en la polaridad de los artículos de prensa raltivos a Chile en los últimos años?\n",
    "\n",
    "Grafique los scores de negatividad, positividad y neutralidad de los artículos de Reuters como función del tiempo para los últimos dos años, analice y comente.¿Puede obtener alguna conclusión respecto a cómo ha evolucionado el tono de las noticias sobre Chile?\n",
    "\n",
    "### 7. Probemos ahora un modelo de aprendizaje automático para análisis de sentimiento. \n",
    "\n",
    "Para entrenar nuestro propio modelo, necesitaríamos un dataset de entrenamiento previamente etiquetado, que es costoso de generar. Sin embargo, podemos recurrir a modelos de lenguaje pre-entrenados, y aplicarlos sobre nuestros datos. \n",
    "\n",
    "En este caso, utilizaremos la librería de modelos pre-entrenados ofrecidos por HuggingFace. Para mayor información sobre estos modelos y sobre HuggingFace, vea los siguientes links:\n",
    "\n",
    "https://huggingface.co/tasks/text-classification <br>\n",
    "https://huggingface.co/blog/sentiment-analysis-python#2-how-to-use-pre-trained-sentiment-analysis-models-with-python\n",
    "\n",
    "\n",
    "**a)** Seleccione y aplique uno de los modelos de lenguaje pre-entrenado disponibles en HuggingFace.<br>\n",
    "**b)** Investigue y explique brevemente enun párrafo: a qué tipo de algoritmo o arquitectura corresponde el modelo seleccionado, cómo y con qué datos fue entrenado, principales aplicaciones y ámbitos de uso.<br>\n",
    "**c)** Compare los resultados con aquellos obtenidos en el punto 5.<br>\n",
    "\n",
    "**Referencias:**\n",
    "https://realpython.com/python-nltk-sentiment-analysis/\n",
    "\n"
   ]
  },
  {
   "cell_type": "code",
   "execution_count": null,
   "metadata": {},
   "outputs": [],
   "source": []
  }
 ],
 "metadata": {
  "colab": {
   "name": "IMT2200_Clase7-API.ipynb",
   "provenance": []
  },
  "kernelspec": {
   "display_name": "Python 3",
   "language": "python",
   "name": "python3"
  },
  "language_info": {
   "codemirror_mode": {
    "name": "ipython",
    "version": 3
   },
   "file_extension": ".py",
   "mimetype": "text/x-python",
   "name": "python",
   "nbconvert_exporter": "python",
   "pygments_lexer": "ipython3",
   "version": "3.8.8"
  }
 },
 "nbformat": 4,
 "nbformat_minor": 1
}
